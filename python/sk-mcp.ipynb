{
 "cells": [
  {
   "cell_type": "markdown",
   "id": "3a66cf94",
   "metadata": {},
   "source": [
    "# Semantic Kernel - MCP integration"
   ]
  },
  {
   "cell_type": "markdown",
   "id": "dc7e421e",
   "metadata": {},
   "source": [
    "## Packages and configurations"
   ]
  },
  {
   "cell_type": "code",
   "execution_count": null,
   "id": "adb61d58",
   "metadata": {},
   "outputs": [],
   "source": [
    "# Copyright (c) Microsoft. All rights reserved.\n",
    "%pip install --upgrade semantic-kernel\n",
    "%pip install --upgrade semantic-kernel[mcp]\n",
    "\n",
    "import asyncio\n",
    "import os\n",
    "\n",
    "from typing import Annotated\n",
    "from dotenv import load_dotenv\n",
    "from semantic_kernel.connectors.ai.open_ai import AzureChatCompletion\n",
    "from semantic_kernel.agents import ChatCompletionAgent, ChatHistoryAgentThread   \n",
    "from semantic_kernel.connectors.mcp import MCPStdioPlugin\n",
    "from semantic_kernel.connectors.ai.function_choice_behavior import FunctionChoiceBehavior\n",
    "\n",
    "\n",
    "\n",
    "load_dotenv()"
   ]
  },
  {
   "cell_type": "markdown",
   "id": "33e7be34",
   "metadata": {},
   "source": [
    "## Travel Agent with MCP 🛠️🛠️"
   ]
  },
  {
   "cell_type": "code",
   "execution_count": null,
   "id": "836cabde",
   "metadata": {},
   "outputs": [],
   "source": [
    "\n",
    "async with (\n",
    "    MCPStdioPlugin(\n",
    "        name=\"Airbnb\",\n",
    "        description=\"Airbnb mcp server\",\n",
    "        command=\"npx\",\n",
    "        args=[\n",
    "            \"-y\",\n",
    "            \"@openbnb/mcp-server-airbnb\",\n",
    "            \"--ignore-robots-txt\",\n",
    "        ],\n",
    "    ) as airbnb_plugin,\n",
    "    MCPStdioPlugin(\n",
    "        name=\"Ticketmaster\",\n",
    "        description=\"Ticketmaster mcp server\",\n",
    "        command=\"npx\",\n",
    "        args=[\n",
    "            \"-y\",\n",
    "            \"@delorenj/mcp-server-ticketmaster\"\n",
    "        ],\n",
    "        env={\"TICKETMASTER_API_KEY\": os.getenv(\"TICKETMASTER_API_KEY\")},\n",
    "    ) as ticketmaster_plugin,\n",
    "):\n",
    "    \n",
    "    agentWmcp = ChatCompletionAgent(\n",
    "        service=AzureChatCompletion(\n",
    "            deployment_name=os.getenv(\"AZURE_OPENAI_DEPLOYMENT\"),\n",
    "            api_key=os.getenv(\"AZURE_OPENAI_API_KEY\"),\n",
    "            endpoint=os.getenv(\"AZURE_OPENAI_ENDPOINT\"),\n",
    "        ),\n",
    "        name=\"TravelAgent\",\n",
    "        instructions=\n",
    "            \"\"\"\n",
    "                You are a travel agent. You can help the user find concerts and properties.\n",
    "                Appartments from Airbnb must by order by rating and shown only if they are rated 4.80 or higher.\n",
    "                Estimate the cost for lodging.\n",
    "                Show appartments first, then concerts.\n",
    "            \"\"\",\n",
    "        plugins=[airbnb_plugin, ticketmaster_plugin],\n",
    "        function_choice_behavior=FunctionChoiceBehavior.Auto()\n",
    "        # function_choice_behavior=FunctionChoiceBehavior.NoneInvoke()\n",
    "    )\n",
    "\n",
    "    USER_INPUTS = [\n",
    "        \"\"\"\n",
    "            I am travelling to New York from 10th of June to 20th of June 2025.\n",
    "            could you please help me find a place to stay and rock concerts to attend?\n",
    "        \"\"\",\n",
    "    ]\n",
    "\n",
    "    # Create a thread to hold the conversation\n",
    "    # If no thread is provided, a new thread will be\n",
    "    # created and returned with the initial response\n",
    "    thread: ChatHistoryAgentThread | None = None\n",
    "    for user_input in USER_INPUTS:\n",
    "        print(f\"# User: {user_input}\", end=\"\\n\\n\")\n",
    "        # Invoke the agent for a response\n",
    "        # user_input = \"Show all functions you would execute to get the goal:\" + user_input\n",
    "        response = await agentWmcp.get_response(messages=user_input, thread=thread)\n",
    "        print(f\"# {response.name}: {response} \")\n",
    "        thread = response.thread\n",
    "\n",
    "    # Cleanup: Clear the thread\n",
    "    await thread.delete() if thread else None"
   ]
  }
 ],
 "metadata": {
  "kernelspec": {
   "display_name": "Python 3",
   "language": "python",
   "name": "python3"
  },
  "language_info": {
   "codemirror_mode": {
    "name": "ipython",
    "version": 3
   },
   "file_extension": ".py",
   "mimetype": "text/x-python",
   "name": "python",
   "nbconvert_exporter": "python",
   "pygments_lexer": "ipython3",
   "version": "3.13.3"
  }
 },
 "nbformat": 4,
 "nbformat_minor": 5
}
